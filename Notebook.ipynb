{
 "cells": [
  {
   "cell_type": "code",
   "execution_count": 67,
   "metadata": {},
   "outputs": [],
   "source": [
    "import streamlit as st\n",
    "import plotly_express as px\n",
    "import pandas as pd\n",
    "df = pd.read_csv(\"vehicles_us (2).csv\")"
   ]
  },
  {
   "cell_type": "markdown",
   "metadata": {},
   "source": [
    "Number of cars per year by manufacturer"
   ]
  },
  {
   "cell_type": "code",
   "execution_count": 68,
   "metadata": {},
   "outputs": [
    {
     "name": "stdout",
     "output_type": "stream",
     "text": [
      "   price  model_year           model  condition  cylinders fuel  odometer  \\\n",
      "0   9400      2011.0          bmw x5       good        6.0  gas  145000.0   \n",
      "1  25500         NaN      ford f-150       good        6.0  gas   88705.0   \n",
      "2   5500      2013.0  hyundai sonata   like new        4.0  gas  110000.0   \n",
      "3   1500      2003.0      ford f-150       fair        8.0  gas       NaN   \n",
      "4  14900      2017.0    chrysler 200  excellent        4.0  gas   80903.0   \n",
      "\n",
      "  transmission    type paint_color  is_4wd date_posted  days_listed  \\\n",
      "0    automatic     SUV         NaN     1.0  2018-06-23           19   \n",
      "1    automatic  pickup       white     1.0  2018-10-19           50   \n",
      "2    automatic   sedan         red     NaN  2019-02-07           79   \n",
      "3    automatic  pickup         NaN     NaN  2019-03-22            9   \n",
      "4    automatic   sedan       black     NaN  2019-04-02           28   \n",
      "\n",
      "  manufacturer  \n",
      "0          bmw  \n",
      "1         ford  \n",
      "2      hyundai  \n",
      "3         ford  \n",
      "4     chrysler  \n"
     ]
    }
   ],
   "source": [
    "df['manufacturer'] = df['model'].apply(lambda x: x.split()[0] if isinstance(x, str) else None)\n",
    "print(df.head())"
   ]
  },
  {
   "cell_type": "code",
   "execution_count": 69,
   "metadata": {},
   "outputs": [
    {
     "name": "stdout",
     "output_type": "stream",
     "text": [
      "    manufacturer  model_year  counts\n",
      "0          acura      1999.0       3\n",
      "1          acura      2001.0       6\n",
      "2          acura      2002.0       2\n",
      "3          acura      2003.0      10\n",
      "4          acura      2004.0      16\n",
      "..           ...         ...     ...\n",
      "522   volkswagen      2015.0      58\n",
      "523   volkswagen      2016.0      53\n",
      "524   volkswagen      2017.0      29\n",
      "525   volkswagen      2018.0      11\n",
      "526   volkswagen      2019.0       1\n",
      "\n",
      "[527 rows x 3 columns]\n"
     ]
    }
   ],
   "source": [
    "cars_per_year = df.groupby(['manufacturer', 'model_year']).size().reset_index(name='counts')\n",
    "print(cars_per_year)"
   ]
  },
  {
   "cell_type": "code",
   "execution_count": null,
   "metadata": {},
   "outputs": [],
   "source": []
  },
  {
   "cell_type": "markdown",
   "metadata": {},
   "source": [
    "Average days listed by model"
   ]
  },
  {
   "cell_type": "code",
   "execution_count": 70,
   "metadata": {},
   "outputs": [
    {
     "name": "stdout",
     "output_type": "stream",
     "text": [
      "     manufacturer  days_listed\n",
      "0           acura    40.122881\n",
      "1             bmw    42.419476\n",
      "2           buick    39.206642\n",
      "3        cadillac    41.869565\n",
      "4       chevrolet    39.616153\n",
      "5        chrysler    38.798329\n",
      "6           dodge    40.347410\n",
      "7            ford    39.455098\n",
      "8             gmc    40.590833\n",
      "9           honda    39.224964\n",
      "10        hyundai    38.765558\n",
      "11           jeep    39.537336\n",
      "12            kia    41.835897\n",
      "13  mercedes-benz    38.560976\n",
      "14         nissan    38.760599\n",
      "15            ram    40.000905\n",
      "16         subaru    39.148585\n",
      "17         toyota    39.414141\n",
      "18     volkswagen    38.894131\n"
     ]
    }
   ],
   "source": [
    "mean_days_listed = df.groupby('manufacturer').agg({'days_listed': 'mean'}).reset_index()\n",
    "print(mean_days_listed)"
   ]
  }
 ],
 "metadata": {
  "kernelspec": {
   "display_name": "base",
   "language": "python",
   "name": "python3"
  },
  "language_info": {
   "codemirror_mode": {
    "name": "ipython",
    "version": 3
   },
   "file_extension": ".py",
   "mimetype": "text/x-python",
   "name": "python",
   "nbconvert_exporter": "python",
   "pygments_lexer": "ipython3",
   "version": "3.11.7"
  }
 },
 "nbformat": 4,
 "nbformat_minor": 2
}
